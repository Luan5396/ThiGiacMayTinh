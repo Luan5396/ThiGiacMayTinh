{
 "cells": [
  {
   "cell_type": "code",
   "execution_count": 3,
   "id": "474d0d11-fb60-45b4-bf34-4305e88fc15f",
   "metadata": {},
   "outputs": [],
   "source": [
    "from PIL import Image\n",
    "import matplotlib.pyplot as plt"
   ]
  },
  {
   "cell_type": "code",
   "execution_count": 10,
   "id": "1ed3aaf2-d457-4fab-95a1-48aa223f5e9d",
   "metadata": {},
   "outputs": [
    {
     "name": "stdout",
     "output_type": "stream",
     "text": [
      "[(156.83333333333331, 162.92857142857133), (355.88095238095235, 160.83333333333326), (584.2619047619048, 91.69047619047603), (846.1666666666667, 104.2619047619047), (756.0714285714287, 322.1666666666665)]\n"
     ]
    }
   ],
   "source": [
    "path = 'C:/Users/Luan/ThiGiacMayTinhSo7/img/00304.jpg'\n",
    "\n",
    "img = Image.open(path)\n",
    "\n",
    "#chuyển đổi bachkend\n",
    "plt.switch_backend('tkagg')\n",
    "\n",
    "#hiểm thị ảnh\n",
    "plt.imshow(img)\n",
    "plt.title(\"ấn hình để cho điểm\")\n",
    "\n",
    "#sử dụng hàm input để chọn điểm\n",
    "points = plt.ginput(5)\n",
    "print(points)\n",
    "\n",
    "#đóng sau khi chọn điểm tọa độ xong\n",
    "plt.close()\n",
    "\n",
    "plt.show()"
   ]
  },
  {
   "cell_type": "code",
   "execution_count": 12,
   "id": "b299f834-42f5-4062-bfa9-692c3356f650",
   "metadata": {},
   "outputs": [],
   "source": [
    "# Vẽ lại các điểm đã chọn bằng dấu * màu đỏ\n",
    "plt.close()\n",
    "\n",
    "# Vẽ lại\n",
    "plt.imshow(img)\n",
    "for point in points:\n",
    "    x, y = point\n",
    "    plt.plot(x,y, 'r*')\n",
    "\n",
    "plt.show()\n"
   ]
  },
  {
   "cell_type": "code",
   "execution_count": null,
   "id": "97378a0f-4b3c-45de-8ab5-39e2be28efbd",
   "metadata": {},
   "outputs": [],
   "source": []
  }
 ],
 "metadata": {
  "kernelspec": {
   "display_name": "Python 3 (ipykernel)",
   "language": "python",
   "name": "python3"
  },
  "language_info": {
   "codemirror_mode": {
    "name": "ipython",
    "version": 3
   },
   "file_extension": ".py",
   "mimetype": "text/x-python",
   "name": "python",
   "nbconvert_exporter": "python",
   "pygments_lexer": "ipython3",
   "version": "3.12.4"
  }
 },
 "nbformat": 4,
 "nbformat_minor": 5
}
