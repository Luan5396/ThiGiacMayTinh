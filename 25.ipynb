{
 "cells": [
  {
   "cell_type": "code",
   "execution_count": 1,
   "id": "156b8dee-817c-43d4-8fc1-78925463c296",
   "metadata": {},
   "outputs": [],
   "source": [
    "import cv2"
   ]
  },
  {
   "cell_type": "code",
   "execution_count": 2,
   "id": "b4165e6b-40f1-46bf-be82-cda4adb64037",
   "metadata": {},
   "outputs": [],
   "source": [
    "def display(title, img):\n",
    "    cv2.imshow(title, img)\n",
    "    # Chờ một khoảng thời gian\n",
    "    cv2.waitKey(0)\n",
    "    # Đóng window\n",
    "    cv2.destroyWindow(title)"
   ]
  },
  {
   "cell_type": "code",
   "execution_count": 3,
   "id": "51091358-6554-4ea0-a61e-26de658fda5d",
   "metadata": {},
   "outputs": [],
   "source": [
    "# Khởi tạo Haar Cascade Classifier cho nhân diện khuôn mặt\n",
    "face_cascade = cv2.CascadeClassifier('./data/haarcascade_frontalface_default.xml')\n",
    "eye_cascade = cv2.CascadeClassifier('./data/haarcascade_eye_tree_eyeglasses.xml')"
   ]
  },
  {
   "cell_type": "code",
   "execution_count": 20,
   "id": "2e68db27-00d2-433c-aab7-798e87b4fce7",
   "metadata": {},
   "outputs": [],
   "source": [
    "img = cv2.imread('./img/172100304_LiuGiaLuan/img_260.jpg')"
   ]
  },
  {
   "cell_type": "code",
   "execution_count": 21,
   "id": "db29dbc0-f87c-4202-94a0-bbc09a5345b7",
   "metadata": {},
   "outputs": [],
   "source": [
    "# Chuyển sang ảnh xám\n",
    "gray = cv2.cvtColor(img, cv2.COLOR_BGR2GRAY)"
   ]
  },
  {
   "cell_type": "code",
   "execution_count": 22,
   "id": "d44492ab-1c24-4ad2-8d00-9a057ae0150b",
   "metadata": {},
   "outputs": [],
   "source": [
    "# Nhận diện khuôn mặt\n",
    "faces = face_cascade.detectMultiScale(gray, scaleFactor=1.1, minNeighbors=5, minSize=(30,30))"
   ]
  },
  {
   "cell_type": "code",
   "execution_count": 23,
   "id": "b881b866-3405-44a5-8656-25dce8f47513",
   "metadata": {},
   "outputs": [],
   "source": [
    "# Nhận diện mắt\n",
    "eyes = eye_cascade.detectMultiScale(gray, scaleFactor=1.1, minNeighbors=1, minSize=(5,5))"
   ]
  },
  {
   "cell_type": "code",
   "execution_count": 24,
   "id": "cb689aa3-6f38-4f54-af76-3b95c613a34e",
   "metadata": {},
   "outputs": [],
   "source": [
    "# Vẽ hộp chứa khuôn mặt\n",
    "for (x, y, w, h) in faces:\n",
    "    cv2.rectangle(img, (x, y), (x+w, y+h), (0, 255,0), 2)"
   ]
  },
  {
   "cell_type": "code",
   "execution_count": 25,
   "id": "d8578ed4-2453-4cfd-ab6e-6cf8e4ec1842",
   "metadata": {},
   "outputs": [],
   "source": [
    "# Vẽ hộp chứa khuôn mặt\n",
    "for (x, y, w, h) in eyes:\n",
    "    cv2.rectangle(img, (x, y), (x+w, y+h), (255, 0,0), 2)"
   ]
  },
  {
   "cell_type": "code",
   "execution_count": 27,
   "id": "bb961021-c1e6-4cbb-b96e-bc8c7a4ba95f",
   "metadata": {},
   "outputs": [],
   "source": [
    "display('Faces: ', img)"
   ]
  },
  {
   "cell_type": "code",
   "execution_count": null,
   "id": "1901b3a5-62a9-4082-b8ca-0dd054455c33",
   "metadata": {},
   "outputs": [],
   "source": []
  }
 ],
 "metadata": {
  "kernelspec": {
   "display_name": "Python 3 (ipykernel)",
   "language": "python",
   "name": "python3"
  },
  "language_info": {
   "codemirror_mode": {
    "name": "ipython",
    "version": 3
   },
   "file_extension": ".py",
   "mimetype": "text/x-python",
   "name": "python",
   "nbconvert_exporter": "python",
   "pygments_lexer": "ipython3",
   "version": "3.12.4"
  }
 },
 "nbformat": 4,
 "nbformat_minor": 5
}
