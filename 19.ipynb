{
 "cells": [
  {
   "cell_type": "code",
   "execution_count": 23,
   "id": "b1883cc4-de3e-4c17-9fe7-63ee8f97d1af",
   "metadata": {},
   "outputs": [
    {
     "name": "stdout",
     "output_type": "stream",
     "text": [
      "Requirement already satisfied: opencv-python in c:\\users\\luan\\anaconda3\\lib\\site-packages (4.10.0.84)\n",
      "Requirement already satisfied: numpy>=1.21.2 in c:\\users\\luan\\anaconda3\\lib\\site-packages (from opencv-python) (1.26.4)\n"
     ]
    }
   ],
   "source": [
    "!pip install opencv-python"
   ]
  },
  {
   "cell_type": "code",
   "execution_count": 24,
   "id": "02c64bdd-0bf6-412d-9cb5-193cb4186ae7",
   "metadata": {},
   "outputs": [],
   "source": [
    "def display(title, img):\n",
    "    cv2.imshow(title, img)\n",
    "    # Chờ một khoảng thời gian\n",
    "    cv2.waitKey(0)\n",
    "    # Đóng window\n",
    "    cv2.destroyWindow(title)"
   ]
  },
  {
   "cell_type": "code",
   "execution_count": 25,
   "id": "e8109cc0-180c-4ae3-aa15-3affc7f72ed2",
   "metadata": {},
   "outputs": [],
   "source": [
    "import cv2"
   ]
  },
  {
   "cell_type": "code",
   "execution_count": 27,
   "id": "76dc5ea6-1541-4b57-8d07-1c8e48231735",
   "metadata": {},
   "outputs": [
    {
     "name": "stdout",
     "output_type": "stream",
     "text": [
      "[[[132 111  59]\n",
      "  [132 111  59]\n",
      "  [131 111  56]\n",
      "  ...\n",
      "  [127 117  57]\n",
      "  [124 111  65]\n",
      "  [121 109  69]]\n",
      "\n",
      " [[132 111  59]\n",
      "  [132 111  59]\n",
      "  [131 111  56]\n",
      "  ...\n",
      "  [127 117  57]\n",
      "  [124 111  65]\n",
      "  [121 109  69]]\n",
      "\n",
      " [[132 111  59]\n",
      "  [132 111  59]\n",
      "  [131 111  56]\n",
      "  ...\n",
      "  [127 117  57]\n",
      "  [124 111  65]\n",
      "  [122 110  70]]\n",
      "\n",
      " ...\n",
      "\n",
      " [[ 64  99 142]\n",
      "  [ 82 118 158]\n",
      "  [120 159 197]\n",
      "  ...\n",
      "  [154 196 219]\n",
      "  [162 201 223]\n",
      "  [171 211 230]]\n",
      "\n",
      " [[  0  25  65]\n",
      "  [ 13  49  89]\n",
      "  [ 57  96 134]\n",
      "  ...\n",
      "  [154 196 219]\n",
      "  [159 198 220]\n",
      "  [166 206 225]]\n",
      "\n",
      " [[ 29  64 104]\n",
      "  [ 29  66 104]\n",
      "  [ 41  78 116]\n",
      "  ...\n",
      "  [149 191 214]\n",
      "  [156 195 217]\n",
      "  [169 209 228]]]\n",
      "(968, 960, 3)\n",
      "968\n",
      "960\n",
      "3\n"
     ]
    }
   ],
   "source": [
    "# Đọc một ảnh (nhan TAB de nhin autocomplete)\n",
    "path= 'C:/Users/Luan/ThiGiacMayTinhSo7/img/00304.jpg'\n",
    "img = cv2.imread(path)\n",
    "# In thông tin của ảnh\n",
    "print(img)\n",
    "# Lấy kích thước\n",
    "print(img.shape)\n",
    "x, y, z = img.shape\n",
    "print(x)\n",
    "print(y)\n",
    "print(z)"
   ]
  },
  {
   "cell_type": "code",
   "execution_count": 32,
   "id": "e704eccd-57ad-4b97-a923-bcd719cbab3d",
   "metadata": {},
   "outputs": [],
   "source": [
    "# Hiển thị ảnh\n",
    "cv2.imshow('Window', img)\n",
    "# Chờ một khoảng thời gian\n",
    "cv2.waitKey(10000)\n",
    "# Đóng window\n",
    "cv2.destroyWindow('Window')"
   ]
  },
  {
   "cell_type": "code",
   "execution_count": 33,
   "id": "3fb2cb80-6b02-46c3-958d-545cbabafe42",
   "metadata": {},
   "outputs": [],
   "source": [
    "\n",
    "# Tách màu\n",
    "b, g, r = cv2.split(img)\n",
    "cv2.imshow('Window', img)\n",
    "cv2.imshow('Red', r)\n",
    "cv2.imshow('Green', g)\n",
    "cv2.imshow('Blue', b)\n",
    "\n",
    "# Chờ một khoảng thời gian\n",
    "cv2.waitKey(0)\n",
    "# Đóng window\n",
    "cv2.destroyAllWindows()"
   ]
  },
  {
   "cell_type": "code",
   "execution_count": 30,
   "id": "ebb33007-5e8e-4b20-8ea4-5e0db684e3e2",
   "metadata": {},
   "outputs": [],
   "source": [
    "gray_img = cv2.cvtColor(img, cv2.COLOR_BGR2GRAY)\n",
    "img_2 = cv2.cvtColor(img, cv2.COLOR_BGR2RGB)\n",
    "cv2.imshow('Window', img)\n",
    "cv2.imshow('gray_img', gray_img)\n",
    "cv2.imshow('img_2', img_2)\n",
    "# Chờ một khoảng thời gian\n",
    "cv2.waitKey(0)\n",
    "# Đóng window\n",
    "cv2.destroyAllWindows()"
   ]
  },
  {
   "cell_type": "code",
   "execution_count": 34,
   "id": "1270fffc-a820-4aa6-bf28-ca05d7ad3a26",
   "metadata": {},
   "outputs": [],
   "source": [
    "# Thay đổi thông số của điểm ảnh\n",
    "height, width, z = img.shape\n",
    "quater_h = height/2\n",
    "quater_w = width/2\n",
    "\n",
    "# geen color\n",
    "green_color = (0,255,0)\n",
    "\n",
    "# copy ảnh\n",
    "img2 = img.copy()\n",
    "\n",
    "# thay đổi màu của góc 1/4 bên trái trên\n",
    "\n",
    "for y in range(int(quater_h)):\n",
    "    for x in range(int(quater_w)):\n",
    "        img2[y, x] = green_color\n",
    "# Hiển thị\n",
    "display('Window', img)\n",
    "display('Window-2', img2)"
   ]
  },
  {
   "cell_type": "code",
   "execution_count": null,
   "id": "8dee1bf6-2b54-4763-a0a3-80c139f30d8e",
   "metadata": {},
   "outputs": [],
   "source": []
  }
 ],
 "metadata": {
  "kernelspec": {
   "display_name": "Python 3 (ipykernel)",
   "language": "python",
   "name": "python3"
  },
  "language_info": {
   "codemirror_mode": {
    "name": "ipython",
    "version": 3
   },
   "file_extension": ".py",
   "mimetype": "text/x-python",
   "name": "python",
   "nbconvert_exporter": "python",
   "pygments_lexer": "ipython3",
   "version": "3.12.4"
  }
 },
 "nbformat": 4,
 "nbformat_minor": 5
}
