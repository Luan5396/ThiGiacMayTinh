{
 "cells": [
  {
   "cell_type": "code",
   "execution_count": 1,
   "id": "467a05c8-a5c4-4104-8ba1-4a50cef052b0",
   "metadata": {},
   "outputs": [],
   "source": [
    "import cv2\n",
    "import numpy as np"
   ]
  },
  {
   "cell_type": "code",
   "execution_count": 2,
   "id": "335d90be-6eb3-4597-b105-67d6760dc9eb",
   "metadata": {},
   "outputs": [],
   "source": [
    "def display(title, img):\n",
    "    cv2.imshow(title, img)\n",
    "    # Chờ một khoảng thời gian\n",
    "    cv2.waitKey(0)\n",
    "    # Đóng window\n",
    "    cv2.destroyWindow(title)"
   ]
  },
  {
   "cell_type": "code",
   "execution_count": 27,
   "id": "e765f391-7aa3-4c46-b333-009714c12321",
   "metadata": {},
   "outputs": [],
   "source": [
    "img = np.zeros((400,400,3), dtype=np.uint8)\n",
    "cv2.line(img,(50,50), (350,50), (0,0,255), 2)\n",
    "display('Image', img)"
   ]
  },
  {
   "cell_type": "code",
   "execution_count": 7,
   "id": "cea0c2f9-4f64-43f6-85e4-787ba6ed861c",
   "metadata": {},
   "outputs": [],
   "source": [
    "# Vẽ hình tròn\n",
    "cv2.circle(img, (100,100), 50, (0, 255, 0), -1)\n",
    "display('Image', img)"
   ]
  },
  {
   "cell_type": "code",
   "execution_count": 8,
   "id": "1d4c6f5d-7a49-40b3-945f-43bcc0bc18bb",
   "metadata": {},
   "outputs": [],
   "source": [
    "# Vẽ hình chữ nhật\n",
    "cv2.rectangle(img, (100,100),(300,300), (255, 0, 0), -1)\n",
    "display('Image', img)"
   ]
  },
  {
   "cell_type": "code",
   "execution_count": 10,
   "id": "9a24f076-816a-4e17-9b36-1d89e60dd52b",
   "metadata": {},
   "outputs": [],
   "source": [
    "# Ghi text trên hình ảnh\n",
    "content = 'Liu Gia Luan'\n",
    "font = cv2.FONT_HERSHEY_SIMPLEX\n",
    "cv2.putText(img, content, (10, 380), font, 0.6, (255, 255, 255), 2)\n",
    "display('Image', img)"
   ]
  },
  {
   "cell_type": "code",
   "execution_count": 26,
   "id": "7e242a06-0fec-4930-89a9-8a3e601c8491",
   "metadata": {},
   "outputs": [],
   "source": [
    "# Tạo một ảnh nền đen 400x400\n",
    "img = np.zeros((400, 400, 3), dtype=np.uint8)\n",
    "\n",
    "# Vẽ hình vuông xanh dương\n",
    "cv2.rectangle(img, (100, 100), (300, 300), (255, 0, 0), 2)  # Đường viền dày 2 pixel\n",
    "\n",
    "# Vẽ 4 hình tròn ở 4 góc của hình vuông\n",
    "cv2.circle(img, (100, 100), 20, (0, 255, 0), -1)  # Góc trên trái\n",
    "cv2.circle(img, (300, 100), 20, (0, 255, 0), -1)  # Góc trên phải\n",
    "cv2.circle(img, (100, 300), 20, (0, 255, 0), -1)  # Góc dưới trái\n",
    "cv2.circle(img, (300, 300), 20, (0, 255, 0), -1)  # Góc dưới phải\n",
    "\n",
    "# Vẽ 3 đường thẳng để chia hình vuông thành 4 phần\n",
    "cv2.line(img, (150, 100), (200, 300), (0, 0, 255), 2)\n",
    "cv2.line(img, (100, 100), (100, 300), (0, 0, 255), 2)\n",
    "cv2.line(img, (200, 100), (200, 300), (0, 0, 255), 2)\n",
    "cv2.line(img, (250, 100), (200, 300), (0, 0, 255), 2)\n",
    "cv2.line(img, (300, 100), (300, 300), (0, 0, 255), 2)\n",
    "\n",
    "\n",
    "\n",
    "content = 'Liu Gia Luan'\n",
    "font = cv2.FONT_HERSHEY_SIMPLEX\n",
    "cv2.putText(img, content, (10, 380), font, 0.6, (255, 255, 255), 2)\n",
    "\n",
    "# Hiển thị hình ảnh\n",
    "cv2.imshow('Image', img)\n",
    "cv2.waitKey(0)\n",
    "cv2.destroyAllWindows()\n"
   ]
  },
  {
   "cell_type": "code",
   "execution_count": null,
   "id": "c78bf9b4-e028-4706-b7df-705a48daa3fb",
   "metadata": {},
   "outputs": [],
   "source": []
  },
  {
   "cell_type": "code",
   "execution_count": null,
   "id": "c92f51e8-6587-4e02-9ad5-91930df8b119",
   "metadata": {},
   "outputs": [],
   "source": []
  }
 ],
 "metadata": {
  "kernelspec": {
   "display_name": "Python 3 (ipykernel)",
   "language": "python",
   "name": "python3"
  },
  "language_info": {
   "codemirror_mode": {
    "name": "ipython",
    "version": 3
   },
   "file_extension": ".py",
   "mimetype": "text/x-python",
   "name": "python",
   "nbconvert_exporter": "python",
   "pygments_lexer": "ipython3",
   "version": "3.12.4"
  }
 },
 "nbformat": 4,
 "nbformat_minor": 5
}
