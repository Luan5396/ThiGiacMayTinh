{
 "cells": [
  {
   "cell_type": "code",
   "execution_count": 1,
   "id": "b248e63c-d61e-4ae4-b50f-c382c056e438",
   "metadata": {},
   "outputs": [
    {
     "name": "stdout",
     "output_type": "stream",
     "text": [
      "Requirement already satisfied: scipy in c:\\users\\luan\\anaconda3\\lib\\site-packages (1.13.1)\n",
      "Requirement already satisfied: numpy<2.3,>=1.22.4 in c:\\users\\luan\\anaconda3\\lib\\site-packages (from scipy) (1.26.4)\n"
     ]
    }
   ],
   "source": [
    "!pip install scipy"
   ]
  },
  {
   "cell_type": "code",
   "execution_count": 2,
   "id": "005f7dd2-1b7f-4834-aa39-a067da7f2100",
   "metadata": {},
   "outputs": [],
   "source": [
    "from scipy import linalg\n",
    "import numpy as np"
   ]
  },
  {
   "cell_type": "code",
   "execution_count": 3,
   "id": "5669adf5-1a90-4dd6-a982-2d6e32bed1a6",
   "metadata": {},
   "outputs": [],
   "source": [
    "#định nghĩa hệ phương trình tính tuyến\n",
    "a = np.array([[2,1],[3,2]])\n",
    "b = np.array([5,7])"
   ]
  },
  {
   "cell_type": "code",
   "execution_count": null,
   "id": "2d3626ef-0d98-411a-8ea1-22824cd47260",
   "metadata": {},
   "outputs": [],
   "source": []
  },
  {
   "cell_type": "code",
   "execution_count": 4,
   "id": "304c2134-8e8d-487f-9338-7af006fac4a9",
   "metadata": {},
   "outputs": [
    {
     "name": "stdout",
     "output_type": "stream",
     "text": [
      "kết quả [ 3. -1.]\n"
     ]
    }
   ],
   "source": [
    "#giải hệ phương trình\n",
    "x = linalg.solve(a,b)\n",
    "print(\"kết quả\", x)"
   ]
  },
  {
   "cell_type": "code",
   "execution_count": 19,
   "id": "e326b927-ec37-4468-b851-777bc88ab62d",
   "metadata": {},
   "outputs": [
    {
     "name": "stdout",
     "output_type": "stream",
     "text": [
      "tích phân 0-1 (18.666666666666668, 2.0724163126336256e-13)\n"
     ]
    }
   ],
   "source": [
    "#tính tích phân\n",
    "from scipy import integrate\n",
    "#định nghĩa f(x)=x^2\n",
    "def my_function(x):\n",
    "    return x**2;\n",
    "#tính tích phân từ 0-1\n",
    "integral = integrate.quad(my_function, 2, 4);\n",
    "print(\"tích phân 0-1\" , integral)"
   ]
  },
  {
   "cell_type": "code",
   "execution_count": 17,
   "id": "e7ddcf9f-a0e4-4e39-8b1d-944fc2da6ba6",
   "metadata": {},
   "outputs": [],
   "source": [
    "#tính giá trị riêng và vector riêng của một ma trận\n",
    "a = np.array([[4,5],[6,4]])\n",
    "\n",
    "#tính giá trị riêng và vector riêng \n",
    "evals, evecs = linalg.eig(a)"
   ]
  },
  {
   "cell_type": "code",
   "execution_count": 18,
   "id": "36a9026e-b445-4e80-a105-63a0d349e796",
   "metadata": {},
   "outputs": [
    {
     "name": "stdout",
     "output_type": "stream",
     "text": [
      "giá trị riêng:  [ 9.47722558+0.j -1.47722558+0.j]\n",
      "giá trị riêng:  [[ 0.67419986 -0.67419986]\n",
      " [ 0.73854895  0.73854895]]\n"
     ]
    }
   ],
   "source": [
    "print(\"giá trị riêng: \", evals)\n",
    "print(\"giá trị riêng: \", evecs)"
   ]
  },
  {
   "cell_type": "code",
   "execution_count": null,
   "id": "7b87a59f-a1b1-4382-8d17-718e52cd601a",
   "metadata": {},
   "outputs": [],
   "source": []
  }
 ],
 "metadata": {
  "kernelspec": {
   "display_name": "Python 3 (ipykernel)",
   "language": "python",
   "name": "python3"
  },
  "language_info": {
   "codemirror_mode": {
    "name": "ipython",
    "version": 3
   },
   "file_extension": ".py",
   "mimetype": "text/x-python",
   "name": "python",
   "nbconvert_exporter": "python",
   "pygments_lexer": "ipython3",
   "version": "3.12.4"
  }
 },
 "nbformat": 4,
 "nbformat_minor": 5
}
