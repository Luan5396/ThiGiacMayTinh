{
 "cells": [
  {
   "cell_type": "code",
   "execution_count": 1,
   "id": "888476bd-6a95-4d4e-89b3-19d03d694f15",
   "metadata": {},
   "outputs": [],
   "source": [
    "import numpy as np\n"
   ]
  },
  {
   "cell_type": "code",
   "execution_count": 2,
   "id": "e6124c5b-fe7a-4ceb-a189-162af2e50628",
   "metadata": {},
   "outputs": [
    {
     "name": "stdout",
     "output_type": "stream",
     "text": [
      "[1 2 3]\n",
      "2\n"
     ]
    }
   ],
   "source": [
    "#tạo mảng\n",
    "a = np.array([1,2,3])\n",
    "\n",
    "#in mảng \n",
    "print(a)\n",
    "\n",
    "#in ra 1 phần tử\n",
    "ele = a[1]\n",
    "print(ele)"
   ]
  },
  {
   "cell_type": "code",
   "execution_count": 3,
   "id": "f5239bfd-d86c-4a96-91a7-7a5c3c65824b",
   "metadata": {},
   "outputs": [],
   "source": [
    "#tạo mảng 2 chiều"
   ]
  },
  {
   "cell_type": "code",
   "execution_count": 4,
   "id": "67f3b27e-1ee6-44b3-9f62-f10da1b963df",
   "metadata": {},
   "outputs": [
    {
     "name": "stdout",
     "output_type": "stream",
     "text": [
      "matrix: \n",
      "[[1 2 3]\n",
      " [4 5 6]\n",
      " [7 8 9]]\n"
     ]
    }
   ],
   "source": [
    "matrix = np.array([[1,2,3],[4,5,6],[7,8,9]])\n",
    "print(\"matrix: \")\n",
    "print(matrix)"
   ]
  },
  {
   "cell_type": "code",
   "execution_count": 5,
   "id": "1ddd8c5d-d442-4c37-a824-e8fcf350a16a",
   "metadata": {},
   "outputs": [
    {
     "name": "stdout",
     "output_type": "stream",
     "text": [
      "6\n"
     ]
    }
   ],
   "source": [
    "#in một phần tử \n",
    "# In một phần tử\n",
    "element = matrix[1, 2]\n",
    "print(element)"
   ]
  },
  {
   "cell_type": "code",
   "execution_count": 6,
   "id": "9e57f420-922b-4076-8186-c6cdacc4cc72",
   "metadata": {},
   "outputs": [
    {
     "name": "stdout",
     "output_type": "stream",
     "text": [
      "[0. 0. 0. 0. 0.]\n",
      "[1. 1. 1. 1. 1.]\n",
      "[1. 1. 1. 1. 1.]\n",
      "[ 0  1  2  3  4  5  6  7  8  9 10 11 12 13 14 15 16 17 18 19 20 21 22 23\n",
      " 24 25 26 27 28 29 30 31 32 33 34 35 36 37 38 39 40 41 42 43 44 45 46 47\n",
      " 48 49 50 51 52 53 54 55 56 57 58 59 60 61 62 63 64 65 66 67 68 69 70 71\n",
      " 72 73 74 75 76 77 78 79 80 81 82 83 84 85 86 87 88 89 90 91 92 93 94 95\n",
      " 96 97 98 99]\n",
      "[ 0.   2.5  5.   7.5 10. ]\n"
     ]
    },
    {
     "data": {
      "text/plain": [
       "array([1, 1, 1, 1, 1], dtype=int64)"
      ]
     },
     "execution_count": 6,
     "metadata": {},
     "output_type": "execute_result"
    }
   ],
   "source": [
    "# Cách tạo mảng\n",
    "# Tạo mảng toàn là số 0\n",
    "a = np.zeros(5)\n",
    "print(a)\n",
    "\n",
    "# Tạo mảng toàn là số 1\n",
    "a = np.ones(5)\n",
    "print(a)\n",
    "\n",
    "# Tạo mảng\n",
    "a = np.empty(5)\n",
    "print(a)\n",
    "\n",
    "# Tạo mảng từ 0 đến 100\n",
    "a = np.arange(100)\n",
    "print(a)\n",
    "\n",
    "# Tạo mảng gồm các phần tử với khoảng cách đều nhau\n",
    "a = np.linspace(0, 10, num=5)\n",
    "print(a)\n",
    "\n",
    "\n",
    "# Xác định kiểu dữ liệu\n",
    "a = np.ones(5, dtype=np.int64)\n",
    "a"
   ]
  },
  {
   "cell_type": "code",
   "execution_count": 7,
   "id": "bd1062a0-a581-445c-878d-3d97209a2ee2",
   "metadata": {},
   "outputs": [
    {
     "name": "stdout",
     "output_type": "stream",
     "text": [
      "[3 1 2 4 5]\n"
     ]
    }
   ],
   "source": [
    "# Thêm, xóa, sắp xếp mảng\n",
    "\n",
    "# Tạo mảng ban đầu\n",
    "arr = np.array([3, 1, 2, 4, 5])\n",
    "print(arr)"
   ]
  },
  {
   "cell_type": "code",
   "execution_count": 8,
   "id": "ba720463-0941-40e8-9d96-1a43e59ae15d",
   "metadata": {},
   "outputs": [
    {
     "name": "stdout",
     "output_type": "stream",
     "text": [
      "[1 2 3 4 5]\n"
     ]
    }
   ],
   "source": [
    "arr = np.sort(arr)\n",
    "print(arr)"
   ]
  },
  {
   "cell_type": "code",
   "execution_count": 9,
   "id": "84cc6b73-954f-4a36-93ba-451e94fda732",
   "metadata": {},
   "outputs": [
    {
     "name": "stdout",
     "output_type": "stream",
     "text": [
      "[5 4 3 2 1]\n"
     ]
    }
   ],
   "source": [
    "arr = np.sort(arr)[::-1]\n",
    "print(arr)"
   ]
  },
  {
   "cell_type": "code",
   "execution_count": 10,
   "id": "1c822adf-b192-4316-94fa-28cd47ef89f9",
   "metadata": {},
   "outputs": [
    {
     "name": "stdout",
     "output_type": "stream",
     "text": [
      "[ 5  4  3  2  1 10]\n"
     ]
    }
   ],
   "source": [
    "#them phần tử\n",
    "arr = np.append(arr,10)\n",
    "print(arr)"
   ]
  },
  {
   "cell_type": "code",
   "execution_count": 11,
   "id": "513dafb1-b059-40a3-ab4f-0c83ea532161",
   "metadata": {},
   "outputs": [
    {
     "name": "stdout",
     "output_type": "stream",
     "text": [
      "[ 5  4  3  1 10]\n"
     ]
    }
   ],
   "source": [
    "#xóa đi vị trí nào đó trong mảng\n",
    "arr = np.delete(arr,3)\n",
    "print(arr)"
   ]
  },
  {
   "cell_type": "code",
   "execution_count": 12,
   "id": "88a24fc5-612d-49ac-8dfe-50978d14420b",
   "metadata": {},
   "outputs": [],
   "source": [
    "# Tạo một mảng 2 chiều\n",
    "arr = np.array([[3, 2, 1],\n",
    "                [4, 6, 5],\n",
    "                [9, 7, 8]])"
   ]
  },
  {
   "cell_type": "code",
   "execution_count": 13,
   "id": "dd6fa1df-0a18-41c4-b709-4b82bda729d1",
   "metadata": {},
   "outputs": [
    {
     "name": "stdout",
     "output_type": "stream",
     "text": [
      "[[1 2 3]\n",
      " [4 5 6]\n",
      " [7 8 9]]\n"
     ]
    }
   ],
   "source": [
    "tangtheohang = np.sort(arr, axis=1)\n",
    "print(tangtheohang) #1 là theo hàng, 0 là theo cột"
   ]
  },
  {
   "cell_type": "code",
   "execution_count": 14,
   "id": "5d84d2db-0ca7-46fb-a6a4-139bd61d707c",
   "metadata": {},
   "outputs": [
    {
     "name": "stdout",
     "output_type": "stream",
     "text": [
      "[[3 2 1]\n",
      " [4 6 5]\n",
      " [9 7 8]]\n"
     ]
    }
   ],
   "source": [
    "tangtheocot = np.sort(arr, axis=0) \n",
    "print(tangtheocot)#1 là theo hàng, 0 là theo cột"
   ]
  },
  {
   "cell_type": "code",
   "execution_count": 16,
   "id": "e018b4ac-bf73-45f3-9e11-ba2e74fd89c6",
   "metadata": {},
   "outputs": [
    {
     "name": "stdout",
     "output_type": "stream",
     "text": [
      "[[3 2 1]\n",
      " [6 5 4]\n",
      " [9 8 7]]\n"
     ]
    }
   ],
   "source": [
    "giamtheohang = -np.sort(-arr, axis=1)\n",
    "print(giamtheohang)#1 là theo hàng, 0 là theo cột"
   ]
  },
  {
   "cell_type": "code",
   "execution_count": 17,
   "id": "ce8e1056-fc18-4cb4-ad00-91cc90ece93f",
   "metadata": {},
   "outputs": [
    {
     "name": "stdout",
     "output_type": "stream",
     "text": [
      "[[9 7 8]\n",
      " [4 6 5]\n",
      " [3 2 1]]\n"
     ]
    }
   ],
   "source": [
    "giamtheocot = -np.sort(-arr, axis=0)\n",
    "print(giamtheocot)#1 là theo hàng, 0 là theo cột"
   ]
  },
  {
   "cell_type": "code",
   "execution_count": null,
   "id": "d0437390-fa2d-47c9-92de-5d00d6bb355d",
   "metadata": {},
   "outputs": [],
   "source": []
  }
 ],
 "metadata": {
  "kernelspec": {
   "display_name": "Python 3 (ipykernel)",
   "language": "python",
   "name": "python3"
  },
  "language_info": {
   "codemirror_mode": {
    "name": "ipython",
    "version": 3
   },
   "file_extension": ".py",
   "mimetype": "text/x-python",
   "name": "python",
   "nbconvert_exporter": "python",
   "pygments_lexer": "ipython3",
   "version": "3.12.4"
  }
 },
 "nbformat": 4,
 "nbformat_minor": 5
}
